{
  "nbformat": 4,
  "nbformat_minor": 0,
  "metadata": {
    "colab": {
      "name": "IMC",
      "provenance": [],
      "include_colab_link": true
    },
    "kernelspec": {
      "name": "python3",
      "display_name": "Python 3"
    },
    "language_info": {
      "name": "python"
    }
  },
  "cells": [
    {
      "cell_type": "markdown",
      "metadata": {
        "id": "view-in-github",
        "colab_type": "text"
      },
      "source": [
        "<a href=\"https://colab.research.google.com/github/AlbaCruzPOO/POO/blob/main/IMC.ipynb\" target=\"_parent\"><img src=\"https://colab.research.google.com/assets/colab-badge.svg\" alt=\"Open In Colab\"/></a>"
      ]
    },
    {
      "cell_type": "markdown",
      "source": [
        "# Indice de Masa Corporal\n",
        "# Maikel Leyva "
      ],
      "metadata": {
        "id": "5fNaZLTtoZTC"
      }
    },
    {
      "cell_type": "code",
      "execution_count": 5,
      "metadata": {
        "colab": {
          "base_uri": "https://localhost:8080/"
        },
        "id": "aT8q8TERoU_7",
        "outputId": "f269762a-e6c3-43a8-b61d-f5c1457f303d"
      },
      "outputs": [
        {
          "output_type": "stream",
          "name": "stdout",
          "text": [
            "18.376825152861773\n"
          ]
        }
      ],
      "source": [
        "#@title Texto de título predeterminado { run: \"auto\" }\n",
        "Peso = 55 #@param {type:\"number\"}\n",
        "Talla = 1.73 #@param {type:\"number\"}\n",
        "imc=Peso/(Talla*Talla)\n",
        "print(imc)"
      ]
    },
    {
      "cell_type": "markdown",
      "source": [],
      "metadata": {
        "id": "4apEqEvjoWdA"
      }
    }
  ]
}